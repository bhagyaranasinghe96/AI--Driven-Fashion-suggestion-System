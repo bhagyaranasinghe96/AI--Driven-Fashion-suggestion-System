{
  "nbformat": 4,
  "nbformat_minor": 0,
  "metadata": {
    "colab": {
      "provenance": []
    },
    "kernelspec": {
      "display_name": "Python 3",
      "name": "python3"
    }
  },
  "cells": [
    {
      "cell_type": "markdown",
      "metadata": {
        "id": "iA7aoYY837V8"
      },
      "source": []
    },
    {
      "cell_type": "code",
      "metadata": {
        "id": "OMdGpOY6JFCj"
      },
      "source": [
        "import numpy as np\n",
        "import pandas as pd\n",
        "import seaborn as sns\n",
        "import matplotlib.pyplot as plt\n",
        "from sklearn.tree import DecisionTreeClassifier\n",
        "from sklearn import datasets\n",
        "import sklearn\n",
        "import joblib\n",
        "import pickle\n",
        "%matplotlib inline\n",
        "dataset=pd.read_csv(\"cloth - cloth.csv.csv\")"
      ],
      "execution_count": 7,
      "outputs": []
    },
    {
      "cell_type": "code",
      "source": [
        "pip install scikit-learn==0.21.3"
      ],
      "metadata": {
        "id": "26E_jcYyipj_"
      },
      "execution_count": null,
      "outputs": []
    },
    {
      "cell_type": "code",
      "metadata": {
        "id": "ilFdnrCxMSG8"
      },
      "source": [
        "dataset['SuitableClothImageName'].value_counts()"
      ],
      "execution_count": null,
      "outputs": []
    },
    {
      "cell_type": "code",
      "metadata": {
        "id": "8xDDnCUrNBNb"
      },
      "source": [
        "dataset.info()"
      ],
      "execution_count": null,
      "outputs": []
    },
    {
      "cell_type": "code",
      "source": [
        "le_Height = LabelEncoder()\n",
        "le_Weight = LabelEncoder()\n",
        "le_Age = LabelEncoder()\n",
        "le_Gender = LabelEncoder()\n",
        "le_FavoriteColor = LabelEncoder()\n",
        "le_FunctionType = LabelEncoder()\n",
        "le_FunctionTime = LabelEncoder()"
      ],
      "metadata": {
        "id": "HkOoVJuBgtDC"
      },
      "execution_count": null,
      "outputs": []
    },
    {
      "cell_type": "code",
      "source": [
        "inputs['Height_n'] = le_Height.fit_transform(inputs['Height'])\n",
        "inputs['Weight_n'] = le_Weight.fit_transform(inputs['Weight'])\n",
        "inputs['Age_n'] = le_Age.fit_transform(inputs['Age'])\n",
        "inputs['Gender_n'] = le_Gender.fit_transform(inputs['Gender'])\n",
        "inputs['FavoriteColor_n'] = le_FavoriteColor.fit_transform(inputs['FavoriteColor'])\n",
        "inputs['FunctionType_n'] = le_FunctionType.fit_transform(inputs['FunctionType'])\n",
        "inputs['FunctionTime_n'] = le_FunctionTime.fit_transform(inputs['FunctionTime'])"
      ],
      "metadata": {
        "id": "NSsbpjcDhQ-P"
      },
      "execution_count": null,
      "outputs": []
    },
    {
      "cell_type": "code",
      "source": [
        "inputs_n = inputs.drop(['Height','Weight','Age','Gender','FavoriteColor','FunctionType','FunctionTime'],axis='columns')"
      ],
      "metadata": {
        "id": "3CQb6ua5iJ_2"
      },
      "execution_count": null,
      "outputs": []
    },
    {
      "cell_type": "code",
      "metadata": {
        "id": "J5WS1zZLO7-8"
      },
      "source": [
        "x_train=dataset[['Height_n','Weight_n','Age_n','Gender_n','FavoriteColor_n' , 'FunctionType_n','FunctionTime_n']]\n",
        "y_train=dataset[['SuitableClothImageName']]"
      ],
      "execution_count": null,
      "outputs": []
    },
    {
      "cell_type": "code",
      "metadata": {
        "id": "bJsG8oLYPPKw"
      },
      "source": [
        "from sklearn.model_selection import train_test_split as tts\n",
        "x_train,x_test,y_train,y_test=tts(x_train,y_train,test_size=0.25,random_state=42)"
      ],
      "execution_count": null,
      "outputs": []
    },
    {
      "cell_type": "code",
      "metadata": {
        "id": "GEGGp4z8RKp_"
      },
      "source": [
        "from sklearn.linear_model import LogisticRegression\n",
        "clf=LogisticRegression(C=112,max_iter=100)"
      ],
      "execution_count": null,
      "outputs": []
    },
    {
      "cell_type": "code",
      "metadata": {
        "id": "zRurkjZvJcto"
      },
      "source": [],
      "execution_count": null,
      "outputs": []
    },
    {
      "cell_type": "code",
      "metadata": {
        "id": "dfHE_YhjRTfe"
      },
      "source": [
        "clf.fit(x_train,np.array(y_train).ravel())"
      ],
      "execution_count": null,
      "outputs": []
    },
    {
      "cell_type": "code",
      "metadata": {
        "id": "wpfGBLOzR2sp"
      },
      "source": [
        "y_predict=clf.predict(x_test)\n",
        "print(y_predict)"
      ],
      "execution_count": null,
      "outputs": []
    },
    {
      "cell_type": "code",
      "metadata": {
        "id": "ZObwm9nXR7H-"
      },
      "source": [
        "from sklearn.metrics import confusion_matrix\n",
        "confusion_matrix(y_test,y_predict)"
      ],
      "execution_count": null,
      "outputs": []
    },
    {
      "cell_type": "code",
      "metadata": {
        "id": "JoQQG9TnSApd"
      },
      "source": [
        "from sklearn.metrics import accuracy_score\n",
        "accuracy_score(y_test,y_predict)*100"
      ],
      "execution_count": null,
      "outputs": []
    },
    {
      "cell_type": "code",
      "metadata": {
        "id": "0QvZ-VM7xfuB"
      },
      "source": [
        "from sklearn.externals import joblib\n",
        "joblib.dump(clf, 'model.pk1')"
      ],
      "execution_count": null,
      "outputs": []
    }
  ]
}